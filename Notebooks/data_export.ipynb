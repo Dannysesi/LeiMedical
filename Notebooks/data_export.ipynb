{
 "cells": [
  {
   "cell_type": "code",
   "execution_count": 1,
   "metadata": {},
   "outputs": [
    {
     "name": "stdout",
     "output_type": "stream",
     "text": [
      "['SQL Server', 'SQL Server Native Client 11.0', 'ODBC Driver 17 for SQL Server']\n"
     ]
    }
   ],
   "source": [
    "import pyodbc\n",
    "import pandas as pd\n",
    "print(pyodbc.drivers()) "
   ]
  },
  {
   "cell_type": "code",
   "execution_count": null,
   "metadata": {},
   "outputs": [],
   "source": [
    "conn = pyodbc.connect(\n",
    "    'DRIVER={SQL Server};'\n",
    "    'SERVER=LEINADSAMA\\\\LEINADSERVER;'\n",
    "    'DATABASE=LeiMedicalDB;'\n",
    "    'Trusted_Connection=yes;'\n",
    ")"
   ]
  },
  {
   "cell_type": "code",
   "execution_count": null,
   "metadata": {},
   "outputs": [],
   "source": [
    "query = \"\"\"\n",
    "    SELECT \n",
    "        p.patient_id, p.name, p.gender, p.blood_type,\n",
    "        a.admission_date, a.discharge_date, a.diagnosis,\n",
    "        d.name AS doctor_name, d.specialization,\n",
    "        COUNT(l.test_id) AS num_lab_tests\n",
    "    FROM \n",
    "        Patients p\n",
    "    JOIN \n",
    "        Admissions a ON p.patient_id = a.patient_id\n",
    "    JOIN \n",
    "        Doctors d ON a.doctor_id = d.doctor_id\n",
    "    LEFT JOIN \n",
    "        Lab_Results l ON p.patient_id = l.patient_id\n",
    "    GROUP BY \n",
    "        p.patient_id, p.name, p.gender, p.blood_type,\n",
    "        a.admission_date, a.discharge_date, a.diagnosis,\n",
    "        d.name, d.specialization;\n",
    "\"\"\"\n"
   ]
  },
  {
   "cell_type": "code",
   "execution_count": null,
   "metadata": {},
   "outputs": [],
   "source": [
    "df = pd.read_sql(query, conn)\n",
    "df.to_csv('patient_admissions_details.csv', index=False)\n",
    "# conn.close()"
   ]
  },
  {
   "cell_type": "code",
   "execution_count": null,
   "metadata": {},
   "outputs": [],
   "source": [
    "query = \"\"\"\n",
    "    SELECT\n",
    "        a.diagnosis,\n",
    "        p.gender,\n",
    "        CASE \n",
    "            WHEN DATEDIFF(YEAR, p.dob, GETDATE()) BETWEEN 0 AND 18 THEN '0-18'\n",
    "            WHEN DATEDIFF(YEAR, p.dob, GETDATE()) BETWEEN 19 AND 35 THEN '19-35'\n",
    "            WHEN DATEDIFF(YEAR, p.dob, GETDATE()) BETWEEN 36 AND 50 THEN '36-50'\n",
    "            WHEN DATEDIFF(YEAR, p.dob, GETDATE()) BETWEEN 51 AND 65 THEN '51-65'\n",
    "            ELSE '65+'\n",
    "        END AS age_group,\n",
    "        COUNT(*) AS prevalence_count\n",
    "    FROM \n",
    "        Admissions a\n",
    "    JOIN \n",
    "        Patients p ON a.patient_id = p.patient_id\n",
    "    GROUP BY \n",
    "        a.diagnosis, p.gender,\n",
    "        CASE \n",
    "            WHEN DATEDIFF(YEAR, p.dob, GETDATE()) BETWEEN 0 AND 18 THEN '0-18'\n",
    "            WHEN DATEDIFF(YEAR, p.dob, GETDATE()) BETWEEN 19 AND 35 THEN '19-35'\n",
    "            WHEN DATEDIFF(YEAR, p.dob, GETDATE()) BETWEEN 36 AND 50 THEN '36-50'\n",
    "            WHEN DATEDIFF(YEAR, p.dob, GETDATE()) BETWEEN 51 AND 65 THEN '51-65'\n",
    "            ELSE '65+'\n",
    "        END\n",
    "    ORDER BY \n",
    "        a.diagnosis, age_group, p.gender;\n",
    "\"\"\""
   ]
  },
  {
   "cell_type": "code",
   "execution_count": null,
   "metadata": {},
   "outputs": [],
   "source": [
    "df = pd.read_sql(query, conn)\n",
    "df.to_csv('disease_prevalence_by_age_gender.csv', index=False)\n",
    "conn.close()\n"
   ]
  }
 ],
 "metadata": {
  "kernelspec": {
   "display_name": "Python 3",
   "language": "python",
   "name": "python3"
  },
  "language_info": {
   "codemirror_mode": {
    "name": "ipython",
    "version": 3
   },
   "file_extension": ".py",
   "mimetype": "text/x-python",
   "name": "python",
   "nbconvert_exporter": "python",
   "pygments_lexer": "ipython3",
   "version": "3.11.3"
  }
 },
 "nbformat": 4,
 "nbformat_minor": 2
}
